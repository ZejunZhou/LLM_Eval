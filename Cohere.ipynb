{
 "cells": [
  {
   "cell_type": "markdown",
   "id": "f64f13ed-243b-4ec7-b07b-1eaf628f33e9",
   "metadata": {},
   "source": [
    "# Cohere Related Evaluation"
   ]
  },
  {
   "cell_type": "markdown",
   "id": "43569566-c38f-446b-b694-0b9f4b7f5d0e",
   "metadata": {},
   "source": [
    "import cohere\n",
    "\n",
    "api_key = 'kT7JLtSWmvJYW56zqCdKmQIkopBL6LsSqp3DOjdc'\n",
    "co = cohere.Client(api_key)"
   ]
  },
  {
   "cell_type": "markdown",
   "id": "9ab88ab9-05be-4563-a753-cb7d5507a5ff",
   "metadata": {},
   "source": [
    "below are just test examples of input / output to see if this is actually working"
   ]
  },
  {
   "cell_type": "code",
   "execution_count": 3,
   "id": "782b6c33-0a85-4e28-b689-4cab8b193fea",
   "metadata": {},
   "outputs": [],
   "source": [
    "from cohere.responses.classify import Example\n",
    "\n",
    "\n",
    "examples=[\n",
    "  Example(\"How do I find my insurance policy?\", \"Finding policy details\"),\n",
    "  Example(\"How do I download a copy of my insurance policy?\", \"Finding policy details\"),\n",
    "  Example(\"How do I find my policy effective date?\", \"Finding policy details\"),\n",
    "  Example(\"When does my insurance policy end?\", \"Finding policy details\"),\n",
    "  Example(\"Could you please tell me the date my policy becomes effective?\", \"Finding policy details\"),\n",
    "  Example(\"How do I sign up for electronic filing?\", \"Change account settings\"),\n",
    "  Example(\"How do I change my policy?\", \"Change account settings\"),\n",
    "  Example(\"How do I sign up for direct deposit?\", \"Change account settings\"),\n",
    "  Example(\"I want direct deposit. Can you help with that?\", \"Change account settings\"),\n",
    "  Example(\"Could you deposit money into my account rather than mailing me a physical cheque?\", \"Change account settings\"),\n",
    "  Example(\"How do I file an insurance claim?\", \"Filing a claim and viewing status\"),\n",
    "  Example(\"How do I file a reimbursement claim?\", \"Filing a claim and viewing status\"),\n",
    "  Example(\"How do I check my claim status?\", \"Filing a claim and viewing status\"),\n",
    "  Example(\"When will my claim be reimbursed?\", \"Filing a claim and viewing status\"),\n",
    "  Example(\"I filed my claim 2 weeks ago but I still haven’t received a deposit for it.\", \"Filing a claim and viewing status\"),\n",
    "  Example(\"I want to cancel my policy immediately! This is nonsense.\", \"Cancelling coverage\"),\n",
    "  Example(\"Could you please help my end my insurance coverage? Thank you.\",\n",
    "  \"Cancelling coverage\"),\n",
    "  Example(\"Your service sucks. I’m switching providers. Cancel my coverage.\", \"Cancelling coverage\"),\n",
    "  Example(\"Hello there! How do I cancel my coverage?\", \"Cancelling coverage\"),\n",
    "  Example(\"How do I delete my account?\", \"Cancelling coverage\")\n",
    "]\n"
   ]
  },
  {
   "cell_type": "code",
   "execution_count": 8,
   "id": "76fa3c82-24e2-4b10-9212-aac54943f365",
   "metadata": {},
   "outputs": [],
   "source": [
    "inputs=[\"I want to change my password\", \n",
    "        \"Does my policy cover prescription medication?\"\n",
    "       ]"
   ]
  },
  {
   "cell_type": "code",
   "execution_count": 10,
   "id": "ba01520c-b623-4139-bf3c-2e3c5ef56796",
   "metadata": {},
   "outputs": [
    {
     "name": "stdout",
     "output_type": "stream",
     "text": [
      "[Classification<prediction: \"Change account settings\", confidence: 0.9852129, labels: {'Cancelling coverage': LabelPrediction(confidence=0.013091597), 'Change account settings': LabelPrediction(confidence=0.9852129), 'Filing a claim and viewing status': LabelPrediction(confidence=0.0003450136), 'Finding policy details': LabelPrediction(confidence=0.0013504827)}>, Classification<prediction: \"Finding policy details\", confidence: 0.8247691, labels: {'Cancelling coverage': LabelPrediction(confidence=0.05437897), 'Change account settings': LabelPrediction(confidence=0.078491256), 'Filing a claim and viewing status': LabelPrediction(confidence=0.042360693), 'Finding policy details': LabelPrediction(confidence=0.8247691)}>]\n"
     ]
    }
   ],
   "source": [
    "response = co.classify(  \n",
    "    model='large',  \n",
    "    inputs=inputs,  \n",
    "    examples=examples)\n",
    "\n",
    "print(response.classifications)"
   ]
  },
  {
   "cell_type": "markdown",
   "id": "420c9479-1275-4744-be72-ec9fd17ee841",
   "metadata": {},
   "source": [
    "## Links to documentation / other sources\n",
    "https://docs.cohere.com/reference/customer-support <br>\n",
    "https://txt.cohere.com/how-to-train-your-pet-llm-prompt-engineering/"
   ]
  },
  {
   "cell_type": "markdown",
   "id": "df89d3dc-dff5-4c0f-a30d-d8fc054223b9",
   "metadata": {},
   "source": [
    "## Step 1: Pre-Evaluation\n",
    "this step evaluates the model performance on medical advice related responses"
   ]
  },
  {
   "cell_type": "code",
   "execution_count": null,
   "id": "16fb5231-5d50-4eb6-8f1d-6a15d47d9df5",
   "metadata": {},
   "outputs": [],
   "source": []
  }
 ],
 "metadata": {
  "kernelspec": {
   "display_name": "Python 3 (ipykernel)",
   "language": "python",
   "name": "python3"
  },
  "language_info": {
   "codemirror_mode": {
    "name": "ipython",
    "version": 3
   },
   "file_extension": ".py",
   "mimetype": "text/x-python",
   "name": "python",
   "nbconvert_exporter": "python",
   "pygments_lexer": "ipython3",
   "version": "3.11.5"
  }
 },
 "nbformat": 4,
 "nbformat_minor": 5
}
