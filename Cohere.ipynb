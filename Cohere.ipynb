{
 "cells": [
  {
   "cell_type": "markdown",
   "id": "f64f13ed-243b-4ec7-b07b-1eaf628f33e9",
   "metadata": {},
   "source": [
    "# Cohere Related Evaluation"
   ]
  },
  {
   "cell_type": "markdown",
   "id": "1f7e9528",
   "metadata": {},
   "source": [
    "## Required Environment\n",
    "Python over 3.9 version\n"
   ]
  },
  {
   "cell_type": "code",
   "execution_count": 12,
   "id": "ba6d0a1a",
   "metadata": {},
   "outputs": [
    {
     "name": "stdout",
     "output_type": "stream",
     "text": [
      "Requirement already satisfied: cohere in /opt/anaconda3/envs/myenv/lib/python3.10/site-packages (4.32)\n",
      "Requirement already satisfied: aiohttp<4.0,>=3.0 in /opt/anaconda3/envs/myenv/lib/python3.10/site-packages (from cohere) (3.8.6)\n",
      "Requirement already satisfied: backoff<3.0,>=2.0 in /opt/anaconda3/envs/myenv/lib/python3.10/site-packages (from cohere) (2.2.1)\n",
      "Requirement already satisfied: fastavro==1.8.2 in /opt/anaconda3/envs/myenv/lib/python3.10/site-packages (from cohere) (1.8.2)\n",
      "Requirement already satisfied: importlib_metadata<7.0,>=6.0 in /opt/anaconda3/envs/myenv/lib/python3.10/site-packages (from cohere) (6.8.0)\n",
      "Requirement already satisfied: requests<3.0.0,>=2.25.0 in /opt/anaconda3/envs/myenv/lib/python3.10/site-packages (from cohere) (2.31.0)\n",
      "Requirement already satisfied: urllib3<3,>=1.26 in /opt/anaconda3/envs/myenv/lib/python3.10/site-packages (from cohere) (2.0.7)\n",
      "Requirement already satisfied: attrs>=17.3.0 in /opt/anaconda3/envs/myenv/lib/python3.10/site-packages (from aiohttp<4.0,>=3.0->cohere) (23.1.0)\n",
      "Requirement already satisfied: charset-normalizer<4.0,>=2.0 in /opt/anaconda3/envs/myenv/lib/python3.10/site-packages (from aiohttp<4.0,>=3.0->cohere) (3.3.2)\n",
      "Requirement already satisfied: multidict<7.0,>=4.5 in /opt/anaconda3/envs/myenv/lib/python3.10/site-packages (from aiohttp<4.0,>=3.0->cohere) (6.0.4)\n",
      "Requirement already satisfied: async-timeout<5.0,>=4.0.0a3 in /opt/anaconda3/envs/myenv/lib/python3.10/site-packages (from aiohttp<4.0,>=3.0->cohere) (4.0.3)\n",
      "Requirement already satisfied: yarl<2.0,>=1.0 in /opt/anaconda3/envs/myenv/lib/python3.10/site-packages (from aiohttp<4.0,>=3.0->cohere) (1.9.2)\n",
      "Requirement already satisfied: frozenlist>=1.1.1 in /opt/anaconda3/envs/myenv/lib/python3.10/site-packages (from aiohttp<4.0,>=3.0->cohere) (1.4.0)\n",
      "Requirement already satisfied: aiosignal>=1.1.2 in /opt/anaconda3/envs/myenv/lib/python3.10/site-packages (from aiohttp<4.0,>=3.0->cohere) (1.3.1)\n",
      "Requirement already satisfied: zipp>=0.5 in /opt/anaconda3/envs/myenv/lib/python3.10/site-packages (from importlib_metadata<7.0,>=6.0->cohere) (3.17.0)\n",
      "Requirement already satisfied: idna<4,>=2.5 in /opt/anaconda3/envs/myenv/lib/python3.10/site-packages (from requests<3.0.0,>=2.25.0->cohere) (3.4)\n",
      "Requirement already satisfied: certifi>=2017.4.17 in /opt/anaconda3/envs/myenv/lib/python3.10/site-packages (from requests<3.0.0,>=2.25.0->cohere) (2023.7.22)\n",
      "Requirement already satisfied: openai in /opt/anaconda3/envs/myenv/lib/python3.10/site-packages (0.28.1)\n",
      "Requirement already satisfied: requests>=2.20 in /opt/anaconda3/envs/myenv/lib/python3.10/site-packages (from openai) (2.31.0)\n",
      "Requirement already satisfied: tqdm in /opt/anaconda3/envs/myenv/lib/python3.10/site-packages (from openai) (4.66.1)\n",
      "Requirement already satisfied: aiohttp in /opt/anaconda3/envs/myenv/lib/python3.10/site-packages (from openai) (3.8.6)\n",
      "Requirement already satisfied: charset-normalizer<4,>=2 in /opt/anaconda3/envs/myenv/lib/python3.10/site-packages (from requests>=2.20->openai) (3.3.2)\n",
      "Requirement already satisfied: idna<4,>=2.5 in /opt/anaconda3/envs/myenv/lib/python3.10/site-packages (from requests>=2.20->openai) (3.4)\n",
      "Requirement already satisfied: urllib3<3,>=1.21.1 in /opt/anaconda3/envs/myenv/lib/python3.10/site-packages (from requests>=2.20->openai) (2.0.7)\n",
      "Requirement already satisfied: certifi>=2017.4.17 in /opt/anaconda3/envs/myenv/lib/python3.10/site-packages (from requests>=2.20->openai) (2023.7.22)\n",
      "Requirement already satisfied: attrs>=17.3.0 in /opt/anaconda3/envs/myenv/lib/python3.10/site-packages (from aiohttp->openai) (23.1.0)\n",
      "Requirement already satisfied: multidict<7.0,>=4.5 in /opt/anaconda3/envs/myenv/lib/python3.10/site-packages (from aiohttp->openai) (6.0.4)\n",
      "Requirement already satisfied: async-timeout<5.0,>=4.0.0a3 in /opt/anaconda3/envs/myenv/lib/python3.10/site-packages (from aiohttp->openai) (4.0.3)\n",
      "Requirement already satisfied: yarl<2.0,>=1.0 in /opt/anaconda3/envs/myenv/lib/python3.10/site-packages (from aiohttp->openai) (1.9.2)\n",
      "Requirement already satisfied: frozenlist>=1.1.1 in /opt/anaconda3/envs/myenv/lib/python3.10/site-packages (from aiohttp->openai) (1.4.0)\n",
      "Requirement already satisfied: aiosignal>=1.1.2 in /opt/anaconda3/envs/myenv/lib/python3.10/site-packages (from aiohttp->openai) (1.3.1)\n",
      "Requirement already satisfied: sllim in /opt/anaconda3/envs/myenv/lib/python3.10/site-packages (0.1.31)\n",
      "Requirement already satisfied: openai>=0.28 in /opt/anaconda3/envs/myenv/lib/python3.10/site-packages (from sllim) (0.28.1)\n",
      "Requirement already satisfied: pyspellchecker>=0.7.2 in /opt/anaconda3/envs/myenv/lib/python3.10/site-packages (from sllim) (0.7.2)\n",
      "Requirement already satisfied: tiktoken>=0.4.0 in /opt/anaconda3/envs/myenv/lib/python3.10/site-packages (from sllim) (0.5.1)\n",
      "Requirement already satisfied: requests>=2.20 in /opt/anaconda3/envs/myenv/lib/python3.10/site-packages (from openai>=0.28->sllim) (2.31.0)\n",
      "Requirement already satisfied: tqdm in /opt/anaconda3/envs/myenv/lib/python3.10/site-packages (from openai>=0.28->sllim) (4.66.1)\n",
      "Requirement already satisfied: aiohttp in /opt/anaconda3/envs/myenv/lib/python3.10/site-packages (from openai>=0.28->sllim) (3.8.6)\n",
      "Requirement already satisfied: regex>=2022.1.18 in /opt/anaconda3/envs/myenv/lib/python3.10/site-packages (from tiktoken>=0.4.0->sllim) (2023.10.3)\n",
      "Requirement already satisfied: charset-normalizer<4,>=2 in /opt/anaconda3/envs/myenv/lib/python3.10/site-packages (from requests>=2.20->openai>=0.28->sllim) (3.3.2)\n",
      "Requirement already satisfied: idna<4,>=2.5 in /opt/anaconda3/envs/myenv/lib/python3.10/site-packages (from requests>=2.20->openai>=0.28->sllim) (3.4)\n",
      "Requirement already satisfied: urllib3<3,>=1.21.1 in /opt/anaconda3/envs/myenv/lib/python3.10/site-packages (from requests>=2.20->openai>=0.28->sllim) (2.0.7)\n",
      "Requirement already satisfied: certifi>=2017.4.17 in /opt/anaconda3/envs/myenv/lib/python3.10/site-packages (from requests>=2.20->openai>=0.28->sllim) (2023.7.22)\n",
      "Requirement already satisfied: attrs>=17.3.0 in /opt/anaconda3/envs/myenv/lib/python3.10/site-packages (from aiohttp->openai>=0.28->sllim) (23.1.0)\n",
      "Requirement already satisfied: multidict<7.0,>=4.5 in /opt/anaconda3/envs/myenv/lib/python3.10/site-packages (from aiohttp->openai>=0.28->sllim) (6.0.4)\n",
      "Requirement already satisfied: async-timeout<5.0,>=4.0.0a3 in /opt/anaconda3/envs/myenv/lib/python3.10/site-packages (from aiohttp->openai>=0.28->sllim) (4.0.3)\n",
      "Requirement already satisfied: yarl<2.0,>=1.0 in /opt/anaconda3/envs/myenv/lib/python3.10/site-packages (from aiohttp->openai>=0.28->sllim) (1.9.2)\n",
      "Requirement already satisfied: frozenlist>=1.1.1 in /opt/anaconda3/envs/myenv/lib/python3.10/site-packages (from aiohttp->openai>=0.28->sllim) (1.4.0)\n",
      "Requirement already satisfied: aiosignal>=1.1.2 in /opt/anaconda3/envs/myenv/lib/python3.10/site-packages (from aiohttp->openai>=0.28->sllim) (1.3.1)\n",
      "Requirement already satisfied: tqdm in /opt/anaconda3/envs/myenv/lib/python3.10/site-packages (4.66.1)\n",
      "Requirement already satisfied: datasets in /opt/anaconda3/envs/myenv/lib/python3.10/site-packages (2.14.6)\n",
      "Requirement already satisfied: numpy>=1.17 in /opt/anaconda3/envs/myenv/lib/python3.10/site-packages (from datasets) (1.26.1)\n",
      "Requirement already satisfied: pyarrow>=8.0.0 in /opt/anaconda3/envs/myenv/lib/python3.10/site-packages (from datasets) (14.0.0)\n",
      "Requirement already satisfied: dill<0.3.8,>=0.3.0 in /opt/anaconda3/envs/myenv/lib/python3.10/site-packages (from datasets) (0.3.7)\n",
      "Requirement already satisfied: pandas in /opt/anaconda3/envs/myenv/lib/python3.10/site-packages (from datasets) (2.1.2)\n",
      "Requirement already satisfied: requests>=2.19.0 in /opt/anaconda3/envs/myenv/lib/python3.10/site-packages (from datasets) (2.31.0)\n",
      "Requirement already satisfied: tqdm>=4.62.1 in /opt/anaconda3/envs/myenv/lib/python3.10/site-packages (from datasets) (4.66.1)\n",
      "Requirement already satisfied: xxhash in /opt/anaconda3/envs/myenv/lib/python3.10/site-packages (from datasets) (3.4.1)\n",
      "Requirement already satisfied: multiprocess in /opt/anaconda3/envs/myenv/lib/python3.10/site-packages (from datasets) (0.70.15)\n",
      "Requirement already satisfied: fsspec<=2023.10.0,>=2023.1.0 in /opt/anaconda3/envs/myenv/lib/python3.10/site-packages (from fsspec[http]<=2023.10.0,>=2023.1.0->datasets) (2023.10.0)\n",
      "Requirement already satisfied: aiohttp in /opt/anaconda3/envs/myenv/lib/python3.10/site-packages (from datasets) (3.8.6)\n",
      "Requirement already satisfied: huggingface-hub<1.0.0,>=0.14.0 in /opt/anaconda3/envs/myenv/lib/python3.10/site-packages (from datasets) (0.18.0)\n",
      "Requirement already satisfied: packaging in /opt/anaconda3/envs/myenv/lib/python3.10/site-packages (from datasets) (23.1)\n",
      "Requirement already satisfied: pyyaml>=5.1 in /opt/anaconda3/envs/myenv/lib/python3.10/site-packages (from datasets) (6.0.1)\n",
      "Requirement already satisfied: attrs>=17.3.0 in /opt/anaconda3/envs/myenv/lib/python3.10/site-packages (from aiohttp->datasets) (23.1.0)\n",
      "Requirement already satisfied: charset-normalizer<4.0,>=2.0 in /opt/anaconda3/envs/myenv/lib/python3.10/site-packages (from aiohttp->datasets) (3.3.2)\n",
      "Requirement already satisfied: multidict<7.0,>=4.5 in /opt/anaconda3/envs/myenv/lib/python3.10/site-packages (from aiohttp->datasets) (6.0.4)\n",
      "Requirement already satisfied: async-timeout<5.0,>=4.0.0a3 in /opt/anaconda3/envs/myenv/lib/python3.10/site-packages (from aiohttp->datasets) (4.0.3)\n",
      "Requirement already satisfied: yarl<2.0,>=1.0 in /opt/anaconda3/envs/myenv/lib/python3.10/site-packages (from aiohttp->datasets) (1.9.2)\n",
      "Requirement already satisfied: frozenlist>=1.1.1 in /opt/anaconda3/envs/myenv/lib/python3.10/site-packages (from aiohttp->datasets) (1.4.0)\n",
      "Requirement already satisfied: aiosignal>=1.1.2 in /opt/anaconda3/envs/myenv/lib/python3.10/site-packages (from aiohttp->datasets) (1.3.1)\n",
      "Requirement already satisfied: filelock in /opt/anaconda3/envs/myenv/lib/python3.10/site-packages (from huggingface-hub<1.0.0,>=0.14.0->datasets) (3.13.1)\n",
      "Requirement already satisfied: typing-extensions>=3.7.4.3 in /opt/anaconda3/envs/myenv/lib/python3.10/site-packages (from huggingface-hub<1.0.0,>=0.14.0->datasets) (4.8.0)\n",
      "Requirement already satisfied: idna<4,>=2.5 in /opt/anaconda3/envs/myenv/lib/python3.10/site-packages (from requests>=2.19.0->datasets) (3.4)\n",
      "Requirement already satisfied: urllib3<3,>=1.21.1 in /opt/anaconda3/envs/myenv/lib/python3.10/site-packages (from requests>=2.19.0->datasets) (2.0.7)\n",
      "Requirement already satisfied: certifi>=2017.4.17 in /opt/anaconda3/envs/myenv/lib/python3.10/site-packages (from requests>=2.19.0->datasets) (2023.7.22)\n",
      "Requirement already satisfied: python-dateutil>=2.8.2 in /opt/anaconda3/envs/myenv/lib/python3.10/site-packages (from pandas->datasets) (2.8.2)\n",
      "Requirement already satisfied: pytz>=2020.1 in /opt/anaconda3/envs/myenv/lib/python3.10/site-packages (from pandas->datasets) (2023.3.post1)\n",
      "Requirement already satisfied: tzdata>=2022.1 in /opt/anaconda3/envs/myenv/lib/python3.10/site-packages (from pandas->datasets) (2023.3)\n",
      "Requirement already satisfied: six>=1.5 in /opt/anaconda3/envs/myenv/lib/python3.10/site-packages (from python-dateutil>=2.8.2->pandas->datasets) (1.16.0)\n"
     ]
    }
   ],
   "source": [
    "## Library installation\n",
    "! pip install cohere\n",
    "! pip install openai\n",
    "! pip install sllim\n",
    "! pip install tqdm\n",
    "! pip install datasets"
   ]
  },
  {
   "cell_type": "code",
   "execution_count": 13,
   "id": "43569566-c38f-446b-b694-0b9f4b7f5d0e",
   "metadata": {},
   "outputs": [],
   "source": [
    "import cohere\n",
    "\n",
    "api_key = 'kT7JLtSWmvJYW56zqCdKmQIkopBL6LsSqp3DOjdc'\n",
    "co = cohere.Client(api_key)"
   ]
  },
  {
   "cell_type": "markdown",
   "id": "9ab88ab9-05be-4563-a753-cb7d5507a5ff",
   "metadata": {},
   "source": [
    "below are just test examples of input / output to see if this is actually working"
   ]
  },
  {
   "cell_type": "code",
   "execution_count": 14,
   "id": "782b6c33-0a85-4e28-b689-4cab8b193fea",
   "metadata": {},
   "outputs": [],
   "source": [
    "from cohere.responses.classify import Example\n",
    "\n",
    "\n",
    "examples=[\n",
    "  Example(\"How do I find my insurance policy?\", \"Finding policy details\"),\n",
    "  Example(\"How do I download a copy of my insurance policy?\", \"Finding policy details\"),\n",
    "  Example(\"How do I find my policy effective date?\", \"Finding policy details\"),\n",
    "  Example(\"When does my insurance policy end?\", \"Finding policy details\"),\n",
    "  Example(\"Could you please tell me the date my policy becomes effective?\", \"Finding policy details\"),\n",
    "  Example(\"How do I sign up for electronic filing?\", \"Change account settings\"),\n",
    "  Example(\"How do I change my policy?\", \"Change account settings\"),\n",
    "  Example(\"How do I sign up for direct deposit?\", \"Change account settings\"),\n",
    "  Example(\"I want direct deposit. Can you help with that?\", \"Change account settings\"),\n",
    "  Example(\"Could you deposit money into my account rather than mailing me a physical cheque?\", \"Change account settings\"),\n",
    "  Example(\"How do I file an insurance claim?\", \"Filing a claim and viewing status\"),\n",
    "  Example(\"How do I file a reimbursement claim?\", \"Filing a claim and viewing status\"),\n",
    "  Example(\"How do I check my claim status?\", \"Filing a claim and viewing status\"),\n",
    "  Example(\"When will my claim be reimbursed?\", \"Filing a claim and viewing status\"),\n",
    "  Example(\"I filed my claim 2 weeks ago but I still haven’t received a deposit for it.\", \"Filing a claim and viewing status\"),\n",
    "  Example(\"I want to cancel my policy immediately! This is nonsense.\", \"Cancelling coverage\"),\n",
    "  Example(\"Could you please help my end my insurance coverage? Thank you.\",\n",
    "  \"Cancelling coverage\"),\n",
    "  Example(\"Your service sucks. I’m switching providers. Cancel my coverage.\", \"Cancelling coverage\"),\n",
    "  Example(\"Hello there! How do I cancel my coverage?\", \"Cancelling coverage\"),\n",
    "  Example(\"How do I delete my account?\", \"Cancelling coverage\")\n",
    "]\n"
   ]
  },
  {
   "cell_type": "code",
   "execution_count": 15,
   "id": "76fa3c82-24e2-4b10-9212-aac54943f365",
   "metadata": {},
   "outputs": [],
   "source": [
    "inputs=[\"I want to change my password\", \n",
    "        \"Does my policy cover prescription medication?\"\n",
    "       ]"
   ]
  },
  {
   "cell_type": "code",
   "execution_count": 16,
   "id": "ba01520c-b623-4139-bf3c-2e3c5ef56796",
   "metadata": {},
   "outputs": [
    {
     "name": "stdout",
     "output_type": "stream",
     "text": [
      "[Classification<prediction: \"Change account settings\", confidence: 0.9852129, labels: {'Cancelling coverage': LabelPrediction(confidence=0.013091597), 'Change account settings': LabelPrediction(confidence=0.9852129), 'Filing a claim and viewing status': LabelPrediction(confidence=0.0003450136), 'Finding policy details': LabelPrediction(confidence=0.0013504827)}>, Classification<prediction: \"Finding policy details\", confidence: 0.8247691, labels: {'Cancelling coverage': LabelPrediction(confidence=0.05437897), 'Change account settings': LabelPrediction(confidence=0.078491256), 'Filing a claim and viewing status': LabelPrediction(confidence=0.042360693), 'Finding policy details': LabelPrediction(confidence=0.8247691)}>]\n"
     ]
    }
   ],
   "source": [
    "response = co.classify(  \n",
    "    model='large',  \n",
    "    inputs=inputs,  \n",
    "    examples=examples)\n",
    "\n",
    "print(response.classifications)"
   ]
  },
  {
   "cell_type": "markdown",
   "id": "420c9479-1275-4744-be72-ec9fd17ee841",
   "metadata": {},
   "source": [
    "## Links to documentation / other sources\n",
    "https://docs.cohere.com/reference/customer-support <br>\n",
    "https://txt.cohere.com/how-to-train-your-pet-llm-prompt-engineering/"
   ]
  },
  {
   "cell_type": "markdown",
   "id": "3e8f8c8b",
   "metadata": {},
   "source": [
    "## Step 1: Load-Dataset\n"
   ]
  },
  {
   "cell_type": "code",
   "execution_count": 17,
   "id": "95336da4",
   "metadata": {},
   "outputs": [],
   "source": [
    "from datasets import load_dataset\n",
    "dataset = load_dataset(\"Amod/mental_health_counseling_conversations\")\n"
   ]
  },
  {
   "cell_type": "code",
   "execution_count": 23,
   "id": "e4e55424",
   "metadata": {},
   "outputs": [
    {
     "data": {
      "text/plain": [
       "\"I'm going through some things with my feelings and myself. I barely sleep and I do nothing but think about how I'm worthless and how I shouldn't be here.\\n   I've never tried or contemplated suicide. I've always wanted to fix my issues, but I never get around to it.\\n   How can I change my feeling of being worthless to everyone?\""
      ]
     },
     "execution_count": 23,
     "metadata": {},
     "output_type": "execute_result"
    }
   ],
   "source": [
    "dataset['train']['Context'][0]"
   ]
  },
  {
   "cell_type": "markdown",
   "id": "df89d3dc-dff5-4c0f-a30d-d8fc054223b9",
   "metadata": {},
   "source": [
    "## Step 2: Pre-Evaluation\n",
    "this step evaluates the model performance on medical advice related responses"
   ]
  },
  {
   "cell_type": "code",
   "execution_count": null,
   "id": "16fb5231-5d50-4eb6-8f1d-6a15d47d9df5",
   "metadata": {},
   "outputs": [],
   "source": []
  }
 ],
 "metadata": {
  "kernelspec": {
   "display_name": "Python 3.10.13 ('myenv')",
   "language": "python",
   "name": "python3"
  },
  "language_info": {
   "codemirror_mode": {
    "name": "ipython",
    "version": 3
   },
   "file_extension": ".py",
   "mimetype": "text/x-python",
   "name": "python",
   "nbconvert_exporter": "python",
   "pygments_lexer": "ipython3",
   "version": "3.10.13"
  },
  "vscode": {
   "interpreter": {
    "hash": "e47b1a34c05c1e3b83a62d7885c9d1b5ef8a0522d3be0182d0a008ec409b2b3d"
   }
  }
 },
 "nbformat": 4,
 "nbformat_minor": 5
}
